{
 "cells": [
  {
   "cell_type": "markdown",
   "id": "00174153-0e6e-489f-a7b7-be59202b47e3",
   "metadata": {},
   "source": [
    "<h1 style=\"\n",
    "background-color: #2C6E49;\n",
    "color: #FFFFFF;\n",
    "padding: 20px;\n",
    "border-radius: 10px;\n",
    "text-align: center;\n",
    "font-family: 'Times New Roman', sans-serif;\n",
    "font-size: 2em;\n",
    "text-shadow: 2px 2px 4px rgba(0, 0, 0, 0.4);\n",
    "box-shadow: 0 4px 8px rgba(0, 0, 0, 0.2);\n",
    "text-shadow: 1px 1px 1px #fff, 1px 1px 1px #fff, 1px 1px 1px #fff, 1px 1px 1px #fff;\n",
    "\">BOTSWANA BANK CUSTOMER DATASETS\n",
    "</h1>"
   ]
  },
  {
   "cell_type": "markdown",
   "id": "1bc4c97b-fe8f-4313-b602-e7bffe52c917",
   "metadata": {},
   "source": [
    "<h1 style=\"\n",
    "background-color: #2C6E49;\n",
    "color: #FFFFFF;\n",
    "padding: 10px;\n",
    "border-radius: 5px;\n",
    "text-align: left;\n",
    "font-family: 'Times New Roman', sans-serif;\n",
    "font-size: 2em;\n",
    "text-shadow: 2px 2px 4px rgba(0, 0, 0, 0.4);\n",
    "box-shadow: 0 4px 8px rgba(0, 0, 0, 0.2);\n",
    "text-shadow: 1px 1px 1px #fff, 1px 1px 1px #fff, 1px 1px 1px #fff, 1px 1px 1px #fff;\n",
    "\">Importing Libraries\n",
    "</h1>"
   ]
  },
  {
   "cell_type": "code",
   "execution_count": null,
   "id": "6fe7e196-0abc-47df-95e6-fbec9bcb8c5a",
   "metadata": {},
   "outputs": [],
   "source": [
    "import pandas as pd\n",
    "import numpy as np\n",
    "import matplotlib.pyplot as plt\n",
    "import seaborn as sns"
   ]
  },
  {
   "cell_type": "code",
   "execution_count": 43,
   "id": "64ba69ef-055e-4958-876e-b695ce6dc9d1",
   "metadata": {},
   "outputs": [
    {
     "data": {
      "text/html": [
       "<div>\n",
       "<style scoped>\n",
       "    .dataframe tbody tr th:only-of-type {\n",
       "        vertical-align: middle;\n",
       "    }\n",
       "\n",
       "    .dataframe tbody tr th {\n",
       "        vertical-align: top;\n",
       "    }\n",
       "\n",
       "    .dataframe thead th {\n",
       "        text-align: right;\n",
       "    }\n",
       "</style>\n",
       "<table border=\"1\" class=\"dataframe\">\n",
       "  <thead>\n",
       "    <tr style=\"text-align: right;\">\n",
       "      <th></th>\n",
       "      <th>RowNumber</th>\n",
       "      <th>CustomerId</th>\n",
       "      <th>Surname</th>\n",
       "      <th>First Name</th>\n",
       "      <th>Date of Birth</th>\n",
       "      <th>Gender</th>\n",
       "      <th>Marital Status</th>\n",
       "      <th>Number of Dependents</th>\n",
       "      <th>Occupation</th>\n",
       "      <th>Income</th>\n",
       "      <th>...</th>\n",
       "      <th>Preferred Communication Channel</th>\n",
       "      <th>Credit Score</th>\n",
       "      <th>Credit History Length</th>\n",
       "      <th>Outstanding Loans</th>\n",
       "      <th>Churn Flag</th>\n",
       "      <th>Churn Reason</th>\n",
       "      <th>Churn Date</th>\n",
       "      <th>Balance</th>\n",
       "      <th>NumOfProducts</th>\n",
       "      <th>NumComplaints</th>\n",
       "    </tr>\n",
       "  </thead>\n",
       "  <tbody>\n",
       "    <tr>\n",
       "      <th>0</th>\n",
       "      <td>1</td>\n",
       "      <td>83ef0b54-35f6-4f84-af58-5653ac0c0dc4</td>\n",
       "      <td>Smith</td>\n",
       "      <td>Troy</td>\n",
       "      <td>1987-08-29</td>\n",
       "      <td>Male</td>\n",
       "      <td>Divorced</td>\n",
       "      <td>3</td>\n",
       "      <td>Information systems manager</td>\n",
       "      <td>77710.14</td>\n",
       "      <td>...</td>\n",
       "      <td>Phone</td>\n",
       "      <td>397</td>\n",
       "      <td>24</td>\n",
       "      <td>41959.74</td>\n",
       "      <td>0</td>\n",
       "      <td>NaN</td>\n",
       "      <td>NaN</td>\n",
       "      <td>211359.05</td>\n",
       "      <td>1</td>\n",
       "      <td>0</td>\n",
       "    </tr>\n",
       "    <tr>\n",
       "      <th>1</th>\n",
       "      <td>2</td>\n",
       "      <td>009f115a-e5ca-4cf4-97d6-530140545e4e</td>\n",
       "      <td>Sullivan</td>\n",
       "      <td>Katrina</td>\n",
       "      <td>2000-02-07</td>\n",
       "      <td>Female</td>\n",
       "      <td>Married</td>\n",
       "      <td>1</td>\n",
       "      <td>Charity fundraiser</td>\n",
       "      <td>58209.87</td>\n",
       "      <td>...</td>\n",
       "      <td>Email</td>\n",
       "      <td>665</td>\n",
       "      <td>10</td>\n",
       "      <td>8916.67</td>\n",
       "      <td>0</td>\n",
       "      <td>NaN</td>\n",
       "      <td>NaN</td>\n",
       "      <td>30624.76</td>\n",
       "      <td>4</td>\n",
       "      <td>1</td>\n",
       "    </tr>\n",
       "    <tr>\n",
       "      <th>2</th>\n",
       "      <td>3</td>\n",
       "      <td>66309fd3-5009-44d3-a3f7-1657c869d573</td>\n",
       "      <td>Fuller</td>\n",
       "      <td>Henry</td>\n",
       "      <td>1954-02-03</td>\n",
       "      <td>Female</td>\n",
       "      <td>Single</td>\n",
       "      <td>1</td>\n",
       "      <td>Television production assistant</td>\n",
       "      <td>9794.01</td>\n",
       "      <td>...</td>\n",
       "      <td>Email</td>\n",
       "      <td>715</td>\n",
       "      <td>21</td>\n",
       "      <td>43270.54</td>\n",
       "      <td>0</td>\n",
       "      <td>NaN</td>\n",
       "      <td>NaN</td>\n",
       "      <td>111956.61</td>\n",
       "      <td>2</td>\n",
       "      <td>6</td>\n",
       "    </tr>\n",
       "    <tr>\n",
       "      <th>3</th>\n",
       "      <td>4</td>\n",
       "      <td>b02a30df-1a5f-4087-8075-2a35432da641</td>\n",
       "      <td>Young</td>\n",
       "      <td>Antonio</td>\n",
       "      <td>1991-01-15</td>\n",
       "      <td>Female</td>\n",
       "      <td>Divorced</td>\n",
       "      <td>5</td>\n",
       "      <td>Agricultural engineer</td>\n",
       "      <td>15088.98</td>\n",
       "      <td>...</td>\n",
       "      <td>Phone</td>\n",
       "      <td>747</td>\n",
       "      <td>17</td>\n",
       "      <td>17887.65</td>\n",
       "      <td>0</td>\n",
       "      <td>NaN</td>\n",
       "      <td>NaN</td>\n",
       "      <td>201187.61</td>\n",
       "      <td>1</td>\n",
       "      <td>0</td>\n",
       "    </tr>\n",
       "    <tr>\n",
       "      <th>4</th>\n",
       "      <td>5</td>\n",
       "      <td>0d932e5b-bb3a-4104-8c83-f84270f7f2ea</td>\n",
       "      <td>Andersen</td>\n",
       "      <td>John</td>\n",
       "      <td>1992-04-08</td>\n",
       "      <td>Female</td>\n",
       "      <td>Divorced</td>\n",
       "      <td>2</td>\n",
       "      <td>Teacher, early years/pre</td>\n",
       "      <td>60726.56</td>\n",
       "      <td>...</td>\n",
       "      <td>Email</td>\n",
       "      <td>549</td>\n",
       "      <td>25</td>\n",
       "      <td>32686.84</td>\n",
       "      <td>0</td>\n",
       "      <td>NaN</td>\n",
       "      <td>NaN</td>\n",
       "      <td>60391.24</td>\n",
       "      <td>5</td>\n",
       "      <td>6</td>\n",
       "    </tr>\n",
       "    <tr>\n",
       "      <th>...</th>\n",
       "      <td>...</td>\n",
       "      <td>...</td>\n",
       "      <td>...</td>\n",
       "      <td>...</td>\n",
       "      <td>...</td>\n",
       "      <td>...</td>\n",
       "      <td>...</td>\n",
       "      <td>...</td>\n",
       "      <td>...</td>\n",
       "      <td>...</td>\n",
       "      <td>...</td>\n",
       "      <td>...</td>\n",
       "      <td>...</td>\n",
       "      <td>...</td>\n",
       "      <td>...</td>\n",
       "      <td>...</td>\n",
       "      <td>...</td>\n",
       "      <td>...</td>\n",
       "      <td>...</td>\n",
       "      <td>...</td>\n",
       "      <td>...</td>\n",
       "    </tr>\n",
       "    <tr>\n",
       "      <th>115635</th>\n",
       "      <td>115636</td>\n",
       "      <td>b4ef7eba-1a9e-4956-b827-50037a1087d5</td>\n",
       "      <td>Russell</td>\n",
       "      <td>Gregory</td>\n",
       "      <td>1965-03-09</td>\n",
       "      <td>Male</td>\n",
       "      <td>Divorced</td>\n",
       "      <td>2</td>\n",
       "      <td>Chemical engineer</td>\n",
       "      <td>15704.15</td>\n",
       "      <td>...</td>\n",
       "      <td>Phone</td>\n",
       "      <td>350</td>\n",
       "      <td>23</td>\n",
       "      <td>26370.30</td>\n",
       "      <td>1</td>\n",
       "      <td>Account Closure</td>\n",
       "      <td>2024-06-24</td>\n",
       "      <td>20804.19</td>\n",
       "      <td>2</td>\n",
       "      <td>7</td>\n",
       "    </tr>\n",
       "    <tr>\n",
       "      <th>115636</th>\n",
       "      <td>115637</td>\n",
       "      <td>578e6b99-b42a-4af1-afb4-fd570ea0721f</td>\n",
       "      <td>Ramirez</td>\n",
       "      <td>Thomas</td>\n",
       "      <td>1955-01-10</td>\n",
       "      <td>Female</td>\n",
       "      <td>Single</td>\n",
       "      <td>3</td>\n",
       "      <td>Chartered legal executive (England and Wales)</td>\n",
       "      <td>75792.62</td>\n",
       "      <td>...</td>\n",
       "      <td>Email</td>\n",
       "      <td>721</td>\n",
       "      <td>15</td>\n",
       "      <td>36229.64</td>\n",
       "      <td>0</td>\n",
       "      <td>NaN</td>\n",
       "      <td>NaN</td>\n",
       "      <td>10041.21</td>\n",
       "      <td>4</td>\n",
       "      <td>7</td>\n",
       "    </tr>\n",
       "    <tr>\n",
       "      <th>115637</th>\n",
       "      <td>115638</td>\n",
       "      <td>73a64c22-da8f-4c3e-8f62-d92f03636a1e</td>\n",
       "      <td>Clark</td>\n",
       "      <td>Tonya</td>\n",
       "      <td>1955-08-29</td>\n",
       "      <td>Male</td>\n",
       "      <td>Married</td>\n",
       "      <td>4</td>\n",
       "      <td>Field trials officer</td>\n",
       "      <td>30142.28</td>\n",
       "      <td>...</td>\n",
       "      <td>Email</td>\n",
       "      <td>773</td>\n",
       "      <td>19</td>\n",
       "      <td>6440.85</td>\n",
       "      <td>0</td>\n",
       "      <td>NaN</td>\n",
       "      <td>NaN</td>\n",
       "      <td>108833.43</td>\n",
       "      <td>1</td>\n",
       "      <td>4</td>\n",
       "    </tr>\n",
       "    <tr>\n",
       "      <th>115638</th>\n",
       "      <td>115639</td>\n",
       "      <td>00affc66-75c4-43c4-9019-f28c434b5012</td>\n",
       "      <td>Stewart</td>\n",
       "      <td>Lisa</td>\n",
       "      <td>1992-12-27</td>\n",
       "      <td>Female</td>\n",
       "      <td>Married</td>\n",
       "      <td>0</td>\n",
       "      <td>Legal secretary</td>\n",
       "      <td>58636.06</td>\n",
       "      <td>...</td>\n",
       "      <td>Phone</td>\n",
       "      <td>584</td>\n",
       "      <td>23</td>\n",
       "      <td>5740.08</td>\n",
       "      <td>0</td>\n",
       "      <td>NaN</td>\n",
       "      <td>NaN</td>\n",
       "      <td>195548.32</td>\n",
       "      <td>5</td>\n",
       "      <td>6</td>\n",
       "    </tr>\n",
       "    <tr>\n",
       "      <th>115639</th>\n",
       "      <td>115640</td>\n",
       "      <td>cf2dbdf3-607d-414a-bc14-413dde1c3fc7</td>\n",
       "      <td>Steele</td>\n",
       "      <td>Jessica</td>\n",
       "      <td>1974-11-07</td>\n",
       "      <td>Male</td>\n",
       "      <td>Divorced</td>\n",
       "      <td>1</td>\n",
       "      <td>Neurosurgeon</td>\n",
       "      <td>10542.56</td>\n",
       "      <td>...</td>\n",
       "      <td>Email</td>\n",
       "      <td>689</td>\n",
       "      <td>12</td>\n",
       "      <td>24658.29</td>\n",
       "      <td>1</td>\n",
       "      <td>Account Closure</td>\n",
       "      <td>2024-03-03</td>\n",
       "      <td>13718.92</td>\n",
       "      <td>2</td>\n",
       "      <td>10</td>\n",
       "    </tr>\n",
       "  </tbody>\n",
       "</table>\n",
       "<p>115640 rows × 25 columns</p>\n",
       "</div>"
      ],
      "text/plain": [
       "        RowNumber                            CustomerId   Surname First Name  \\\n",
       "0               1  83ef0b54-35f6-4f84-af58-5653ac0c0dc4     Smith       Troy   \n",
       "1               2  009f115a-e5ca-4cf4-97d6-530140545e4e  Sullivan    Katrina   \n",
       "2               3  66309fd3-5009-44d3-a3f7-1657c869d573    Fuller      Henry   \n",
       "3               4  b02a30df-1a5f-4087-8075-2a35432da641     Young    Antonio   \n",
       "4               5  0d932e5b-bb3a-4104-8c83-f84270f7f2ea  Andersen       John   \n",
       "...           ...                                   ...       ...        ...   \n",
       "115635     115636  b4ef7eba-1a9e-4956-b827-50037a1087d5   Russell    Gregory   \n",
       "115636     115637  578e6b99-b42a-4af1-afb4-fd570ea0721f   Ramirez     Thomas   \n",
       "115637     115638  73a64c22-da8f-4c3e-8f62-d92f03636a1e     Clark      Tonya   \n",
       "115638     115639  00affc66-75c4-43c4-9019-f28c434b5012   Stewart       Lisa   \n",
       "115639     115640  cf2dbdf3-607d-414a-bc14-413dde1c3fc7    Steele    Jessica   \n",
       "\n",
       "       Date of Birth  Gender Marital Status  Number of Dependents  \\\n",
       "0         1987-08-29    Male       Divorced                     3   \n",
       "1         2000-02-07  Female        Married                     1   \n",
       "2         1954-02-03  Female         Single                     1   \n",
       "3         1991-01-15  Female       Divorced                     5   \n",
       "4         1992-04-08  Female       Divorced                     2   \n",
       "...              ...     ...            ...                   ...   \n",
       "115635    1965-03-09    Male       Divorced                     2   \n",
       "115636    1955-01-10  Female         Single                     3   \n",
       "115637    1955-08-29    Male        Married                     4   \n",
       "115638    1992-12-27  Female        Married                     0   \n",
       "115639    1974-11-07    Male       Divorced                     1   \n",
       "\n",
       "                                           Occupation    Income  ...  \\\n",
       "0                         Information systems manager  77710.14  ...   \n",
       "1                                  Charity fundraiser  58209.87  ...   \n",
       "2                     Television production assistant   9794.01  ...   \n",
       "3                               Agricultural engineer  15088.98  ...   \n",
       "4                            Teacher, early years/pre  60726.56  ...   \n",
       "...                                               ...       ...  ...   \n",
       "115635                              Chemical engineer  15704.15  ...   \n",
       "115636  Chartered legal executive (England and Wales)  75792.62  ...   \n",
       "115637                           Field trials officer  30142.28  ...   \n",
       "115638                                Legal secretary  58636.06  ...   \n",
       "115639                                   Neurosurgeon  10542.56  ...   \n",
       "\n",
       "       Preferred Communication Channel Credit Score Credit History Length  \\\n",
       "0                                Phone          397                    24   \n",
       "1                                Email          665                    10   \n",
       "2                                Email          715                    21   \n",
       "3                                Phone          747                    17   \n",
       "4                                Email          549                    25   \n",
       "...                                ...          ...                   ...   \n",
       "115635                           Phone          350                    23   \n",
       "115636                           Email          721                    15   \n",
       "115637                           Email          773                    19   \n",
       "115638                           Phone          584                    23   \n",
       "115639                           Email          689                    12   \n",
       "\n",
       "        Outstanding Loans Churn Flag     Churn Reason  Churn Date    Balance  \\\n",
       "0                41959.74          0              NaN         NaN  211359.05   \n",
       "1                 8916.67          0              NaN         NaN   30624.76   \n",
       "2                43270.54          0              NaN         NaN  111956.61   \n",
       "3                17887.65          0              NaN         NaN  201187.61   \n",
       "4                32686.84          0              NaN         NaN   60391.24   \n",
       "...                   ...        ...              ...         ...        ...   \n",
       "115635           26370.30          1  Account Closure  2024-06-24   20804.19   \n",
       "115636           36229.64          0              NaN         NaN   10041.21   \n",
       "115637            6440.85          0              NaN         NaN  108833.43   \n",
       "115638            5740.08          0              NaN         NaN  195548.32   \n",
       "115639           24658.29          1  Account Closure  2024-03-03   13718.92   \n",
       "\n",
       "        NumOfProducts  NumComplaints  \n",
       "0                   1              0  \n",
       "1                   4              1  \n",
       "2                   2              6  \n",
       "3                   1              0  \n",
       "4                   5              6  \n",
       "...               ...            ...  \n",
       "115635              2              7  \n",
       "115636              4              7  \n",
       "115637              1              4  \n",
       "115638              5              6  \n",
       "115639              2             10  \n",
       "\n",
       "[115640 rows x 25 columns]"
      ]
     },
     "execution_count": 43,
     "metadata": {},
     "output_type": "execute_result"
    }
   ],
   "source": [
    "df = pd.read_csv(r\"C:\\Users\\user\\Documents\\botswana_bank_customer_churn.csv\")\n",
    "df"
   ]
  },
  {
   "cell_type": "markdown",
   "id": "fdc4d4e0-7d03-4428-aae9-d8f52d15d0ac",
   "metadata": {},
   "source": [
    "<h1 style=\"\n",
    "background-color: #2C6E49;\n",
    "color: #FFFFFF;\n",
    "padding: 10px;\n",
    "border-radius: 5px;\n",
    "text-align: left;\n",
    "font-family: 'Times New Roman', sans-serif;\n",
    "font-size: 2em;\n",
    "text-shadow: 2px 2px 4px rgba(0, 0, 0, 0.4);\n",
    "box-shadow: 0 4px 8px rgba(0, 0, 0, 0.2);\n",
    "text-shadow: 1px 1px 1px #fff, 1px 1px 1px #fff, 1px 1px 1px #fff, 1px 1px 1px #fff;\n",
    "\">Data Inspection\n",
    "</h1>"
   ]
  },
  {
   "cell_type": "code",
   "execution_count": 44,
   "id": "9d89dc2d-443b-49eb-a317-e17b4127c394",
   "metadata": {},
   "outputs": [
    {
     "name": "stdout",
     "output_type": "stream",
     "text": [
      "<class 'pandas.core.frame.DataFrame'>\n",
      "RangeIndex: 115640 entries, 0 to 115639\n",
      "Data columns (total 25 columns):\n",
      " #   Column                           Non-Null Count   Dtype  \n",
      "---  ------                           --------------   -----  \n",
      " 0   RowNumber                        115640 non-null  int64  \n",
      " 1   CustomerId                       115640 non-null  object \n",
      " 2   Surname                          115640 non-null  object \n",
      " 3   First Name                       115640 non-null  object \n",
      " 4   Date of Birth                    115640 non-null  object \n",
      " 5   Gender                           115640 non-null  object \n",
      " 6   Marital Status                   115640 non-null  object \n",
      " 7   Number of Dependents             115640 non-null  int64  \n",
      " 8   Occupation                       115640 non-null  object \n",
      " 9   Income                           115640 non-null  float64\n",
      " 10  Education Level                  115640 non-null  object \n",
      " 11  Address                          115640 non-null  object \n",
      " 12  Contact Information              115640 non-null  object \n",
      " 13  Customer Tenure                  115640 non-null  int64  \n",
      " 14  Customer Segment                 115640 non-null  object \n",
      " 15  Preferred Communication Channel  115640 non-null  object \n",
      " 16  Credit Score                     115640 non-null  int64  \n",
      " 17  Credit History Length            115640 non-null  int64  \n",
      " 18  Outstanding Loans                115640 non-null  float64\n",
      " 19  Churn Flag                       115640 non-null  int64  \n",
      " 20  Churn Reason                     14094 non-null   object \n",
      " 21  Churn Date                       14094 non-null   object \n",
      " 22  Balance                          115640 non-null  float64\n",
      " 23  NumOfProducts                    115640 non-null  int64  \n",
      " 24  NumComplaints                    115640 non-null  int64  \n",
      "dtypes: float64(3), int64(8), object(14)\n",
      "memory usage: 22.1+ MB\n"
     ]
    }
   ],
   "source": [
    "df.info()"
   ]
  },
  {
   "cell_type": "code",
   "execution_count": 45,
   "id": "9fa71e7d-ef1f-4ae6-99ff-d3babe929eae",
   "metadata": {},
   "outputs": [
    {
     "data": {
      "text/html": [
       "<div>\n",
       "<style scoped>\n",
       "    .dataframe tbody tr th:only-of-type {\n",
       "        vertical-align: middle;\n",
       "    }\n",
       "\n",
       "    .dataframe tbody tr th {\n",
       "        vertical-align: top;\n",
       "    }\n",
       "\n",
       "    .dataframe thead th {\n",
       "        text-align: right;\n",
       "    }\n",
       "</style>\n",
       "<table border=\"1\" class=\"dataframe\">\n",
       "  <thead>\n",
       "    <tr style=\"text-align: right;\">\n",
       "      <th></th>\n",
       "      <th>RowNumber</th>\n",
       "      <th>Number of Dependents</th>\n",
       "      <th>Income</th>\n",
       "      <th>Customer Tenure</th>\n",
       "      <th>Credit Score</th>\n",
       "      <th>Credit History Length</th>\n",
       "      <th>Outstanding Loans</th>\n",
       "      <th>Churn Flag</th>\n",
       "      <th>Balance</th>\n",
       "      <th>NumOfProducts</th>\n",
       "      <th>NumComplaints</th>\n",
       "    </tr>\n",
       "  </thead>\n",
       "  <tbody>\n",
       "    <tr>\n",
       "      <th>count</th>\n",
       "      <td>115640.000000</td>\n",
       "      <td>115640.000000</td>\n",
       "      <td>115640.000000</td>\n",
       "      <td>115640.000000</td>\n",
       "      <td>115640.000000</td>\n",
       "      <td>115640.000000</td>\n",
       "      <td>115640.000000</td>\n",
       "      <td>115640.000000</td>\n",
       "      <td>115640.000000</td>\n",
       "      <td>115640.000000</td>\n",
       "      <td>115640.000000</td>\n",
       "    </tr>\n",
       "    <tr>\n",
       "      <th>mean</th>\n",
       "      <td>57820.500000</td>\n",
       "      <td>2.502923</td>\n",
       "      <td>52641.363046</td>\n",
       "      <td>15.490591</td>\n",
       "      <td>574.299775</td>\n",
       "      <td>15.546602</td>\n",
       "      <td>25502.731792</td>\n",
       "      <td>0.121878</td>\n",
       "      <td>124639.209748</td>\n",
       "      <td>2.999274</td>\n",
       "      <td>4.991724</td>\n",
       "    </tr>\n",
       "    <tr>\n",
       "      <th>std</th>\n",
       "      <td>33382.536902</td>\n",
       "      <td>1.707249</td>\n",
       "      <td>27429.756390</td>\n",
       "      <td>8.654217</td>\n",
       "      <td>159.067499</td>\n",
       "      <td>8.654630</td>\n",
       "      <td>14127.859827</td>\n",
       "      <td>0.327147</td>\n",
       "      <td>72210.476638</td>\n",
       "      <td>1.411361</td>\n",
       "      <td>3.159283</td>\n",
       "    </tr>\n",
       "    <tr>\n",
       "      <th>min</th>\n",
       "      <td>1.000000</td>\n",
       "      <td>0.000000</td>\n",
       "      <td>5000.960000</td>\n",
       "      <td>1.000000</td>\n",
       "      <td>300.000000</td>\n",
       "      <td>1.000000</td>\n",
       "      <td>1000.430000</td>\n",
       "      <td>0.000000</td>\n",
       "      <td>1.060000</td>\n",
       "      <td>1.000000</td>\n",
       "      <td>0.000000</td>\n",
       "    </tr>\n",
       "    <tr>\n",
       "      <th>25%</th>\n",
       "      <td>28910.750000</td>\n",
       "      <td>1.000000</td>\n",
       "      <td>28857.070000</td>\n",
       "      <td>8.000000</td>\n",
       "      <td>436.000000</td>\n",
       "      <td>8.000000</td>\n",
       "      <td>13226.060000</td>\n",
       "      <td>0.000000</td>\n",
       "      <td>61991.915000</td>\n",
       "      <td>2.000000</td>\n",
       "      <td>2.000000</td>\n",
       "    </tr>\n",
       "    <tr>\n",
       "      <th>50%</th>\n",
       "      <td>57820.500000</td>\n",
       "      <td>3.000000</td>\n",
       "      <td>52658.110000</td>\n",
       "      <td>15.000000</td>\n",
       "      <td>574.000000</td>\n",
       "      <td>16.000000</td>\n",
       "      <td>25505.285000</td>\n",
       "      <td>0.000000</td>\n",
       "      <td>124505.890000</td>\n",
       "      <td>3.000000</td>\n",
       "      <td>5.000000</td>\n",
       "    </tr>\n",
       "    <tr>\n",
       "      <th>75%</th>\n",
       "      <td>86730.250000</td>\n",
       "      <td>4.000000</td>\n",
       "      <td>76364.157500</td>\n",
       "      <td>23.000000</td>\n",
       "      <td>712.000000</td>\n",
       "      <td>23.000000</td>\n",
       "      <td>37742.250000</td>\n",
       "      <td>0.000000</td>\n",
       "      <td>187122.922500</td>\n",
       "      <td>4.000000</td>\n",
       "      <td>8.000000</td>\n",
       "    </tr>\n",
       "    <tr>\n",
       "      <th>max</th>\n",
       "      <td>115640.000000</td>\n",
       "      <td>5.000000</td>\n",
       "      <td>99999.510000</td>\n",
       "      <td>30.000000</td>\n",
       "      <td>850.000000</td>\n",
       "      <td>30.000000</td>\n",
       "      <td>49999.690000</td>\n",
       "      <td>1.000000</td>\n",
       "      <td>249998.910000</td>\n",
       "      <td>5.000000</td>\n",
       "      <td>10.000000</td>\n",
       "    </tr>\n",
       "  </tbody>\n",
       "</table>\n",
       "</div>"
      ],
      "text/plain": [
       "           RowNumber  Number of Dependents         Income  Customer Tenure  \\\n",
       "count  115640.000000         115640.000000  115640.000000    115640.000000   \n",
       "mean    57820.500000              2.502923   52641.363046        15.490591   \n",
       "std     33382.536902              1.707249   27429.756390         8.654217   \n",
       "min         1.000000              0.000000    5000.960000         1.000000   \n",
       "25%     28910.750000              1.000000   28857.070000         8.000000   \n",
       "50%     57820.500000              3.000000   52658.110000        15.000000   \n",
       "75%     86730.250000              4.000000   76364.157500        23.000000   \n",
       "max    115640.000000              5.000000   99999.510000        30.000000   \n",
       "\n",
       "        Credit Score  Credit History Length  Outstanding Loans     Churn Flag  \\\n",
       "count  115640.000000          115640.000000      115640.000000  115640.000000   \n",
       "mean      574.299775              15.546602       25502.731792       0.121878   \n",
       "std       159.067499               8.654630       14127.859827       0.327147   \n",
       "min       300.000000               1.000000        1000.430000       0.000000   \n",
       "25%       436.000000               8.000000       13226.060000       0.000000   \n",
       "50%       574.000000              16.000000       25505.285000       0.000000   \n",
       "75%       712.000000              23.000000       37742.250000       0.000000   \n",
       "max       850.000000              30.000000       49999.690000       1.000000   \n",
       "\n",
       "             Balance  NumOfProducts  NumComplaints  \n",
       "count  115640.000000  115640.000000  115640.000000  \n",
       "mean   124639.209748       2.999274       4.991724  \n",
       "std     72210.476638       1.411361       3.159283  \n",
       "min         1.060000       1.000000       0.000000  \n",
       "25%     61991.915000       2.000000       2.000000  \n",
       "50%    124505.890000       3.000000       5.000000  \n",
       "75%    187122.922500       4.000000       8.000000  \n",
       "max    249998.910000       5.000000      10.000000  "
      ]
     },
     "execution_count": 45,
     "metadata": {},
     "output_type": "execute_result"
    }
   ],
   "source": [
    "df.describe()"
   ]
  },
  {
   "cell_type": "code",
   "execution_count": 46,
   "id": "f25db6cb-5fca-4258-a0bf-17dc582795d9",
   "metadata": {},
   "outputs": [
    {
     "data": {
      "text/plain": [
       "(115640, 25)"
      ]
     },
     "execution_count": 46,
     "metadata": {},
     "output_type": "execute_result"
    }
   ],
   "source": [
    "df.shape"
   ]
  },
  {
   "cell_type": "code",
   "execution_count": 47,
   "id": "7edfc88a-5854-4045-9127-5f38248a269b",
   "metadata": {},
   "outputs": [
    {
     "data": {
      "text/plain": [
       "RowNumber                            int64\n",
       "CustomerId                          object\n",
       "Surname                             object\n",
       "First Name                          object\n",
       "Date of Birth                       object\n",
       "Gender                              object\n",
       "Marital Status                      object\n",
       "Number of Dependents                 int64\n",
       "Occupation                          object\n",
       "Income                             float64\n",
       "Education Level                     object\n",
       "Address                             object\n",
       "Contact Information                 object\n",
       "Customer Tenure                      int64\n",
       "Customer Segment                    object\n",
       "Preferred Communication Channel     object\n",
       "Credit Score                         int64\n",
       "Credit History Length                int64\n",
       "Outstanding Loans                  float64\n",
       "Churn Flag                           int64\n",
       "Churn Reason                        object\n",
       "Churn Date                          object\n",
       "Balance                            float64\n",
       "NumOfProducts                        int64\n",
       "NumComplaints                        int64\n",
       "dtype: object"
      ]
     },
     "execution_count": 47,
     "metadata": {},
     "output_type": "execute_result"
    }
   ],
   "source": [
    "df.dtypes"
   ]
  },
  {
   "cell_type": "markdown",
   "id": "2cc018c0-cd76-4038-b50f-972bd35ab305",
   "metadata": {},
   "source": [
    "<h1 style=\"\n",
    "background-color: #2C6E49;\n",
    "color: #FFFFFF;\n",
    "padding: 10px;\n",
    "border-radius: 5px;\n",
    "text-align: left;\n",
    "font-family: 'Times New Roman', sans-serif;\n",
    "font-size: 2em;\n",
    "text-shadow: 2px 2px 4px rgba(0, 0, 0, 0.4);\n",
    "box-shadow: 0 4px 8px rgba(0, 0, 0, 0.2);\n",
    "text-shadow: 1px 1px 1px #fff, 1px 1px 1px #fff, 1px 1px 1px #fff, 1px 1px 1px #fff;\n",
    "\">Data Cleaning\n",
    "</h1>"
   ]
  },
  {
   "cell_type": "code",
   "execution_count": 48,
   "id": "c0f974f8-05db-4fc4-9636-49332aa60e78",
   "metadata": {},
   "outputs": [
    {
     "data": {
      "text/plain": [
       "0"
      ]
     },
     "execution_count": 48,
     "metadata": {},
     "output_type": "execute_result"
    }
   ],
   "source": [
    "df.duplicated().sum()"
   ]
  },
  {
   "cell_type": "code",
   "execution_count": 49,
   "id": "c4a0a09a-74ee-4528-8194-ea0b9791ac79",
   "metadata": {},
   "outputs": [
    {
     "data": {
      "text/plain": [
       "RowNumber                               0\n",
       "CustomerId                              0\n",
       "Surname                                 0\n",
       "First Name                              0\n",
       "Date of Birth                           0\n",
       "Gender                                  0\n",
       "Marital Status                          0\n",
       "Number of Dependents                    0\n",
       "Occupation                              0\n",
       "Income                                  0\n",
       "Education Level                         0\n",
       "Address                                 0\n",
       "Contact Information                     0\n",
       "Customer Tenure                         0\n",
       "Customer Segment                        0\n",
       "Preferred Communication Channel         0\n",
       "Credit Score                            0\n",
       "Credit History Length                   0\n",
       "Outstanding Loans                       0\n",
       "Churn Flag                              0\n",
       "Churn Reason                       101546\n",
       "Churn Date                         101546\n",
       "Balance                                 0\n",
       "NumOfProducts                           0\n",
       "NumComplaints                           0\n",
       "dtype: int64"
      ]
     },
     "execution_count": 49,
     "metadata": {},
     "output_type": "execute_result"
    }
   ],
   "source": [
    "df.isnull().sum()"
   ]
  },
  {
   "cell_type": "code",
   "execution_count": 50,
   "id": "5f7d993e-f62c-4c49-ba42-329393d45b6e",
   "metadata": {},
   "outputs": [],
   "source": [
    "# convert date column\n",
    "\n",
    "df['Date of Birth'] = pd.to_datetime(df['Date of Birth'], errors = 'coerce')\n",
    "df['Churn Date'] = pd.to_datetime(df['Churn Date'], errors = 'coerce')\n"
   ]
  },
  {
   "cell_type": "code",
   "execution_count": 51,
   "id": "e51bfc3e-a5fa-4b92-a1ad-1519843bffb6",
   "metadata": {},
   "outputs": [
    {
     "data": {
      "text/plain": [
       "RowNumber                                   int64\n",
       "CustomerId                                 object\n",
       "Surname                                    object\n",
       "First Name                                 object\n",
       "Date of Birth                      datetime64[ns]\n",
       "Gender                                     object\n",
       "Marital Status                             object\n",
       "Number of Dependents                        int64\n",
       "Occupation                                 object\n",
       "Income                                    float64\n",
       "Education Level                            object\n",
       "Address                                    object\n",
       "Contact Information                        object\n",
       "Customer Tenure                             int64\n",
       "Customer Segment                           object\n",
       "Preferred Communication Channel            object\n",
       "Credit Score                                int64\n",
       "Credit History Length                       int64\n",
       "Outstanding Loans                         float64\n",
       "Churn Flag                                  int64\n",
       "Churn Reason                               object\n",
       "Churn Date                         datetime64[ns]\n",
       "Balance                                   float64\n",
       "NumOfProducts                               int64\n",
       "NumComplaints                               int64\n",
       "dtype: object"
      ]
     },
     "execution_count": 51,
     "metadata": {},
     "output_type": "execute_result"
    }
   ],
   "source": [
    "df.dtypes"
   ]
  },
  {
   "cell_type": "code",
   "execution_count": 52,
   "id": "aad4d152-02e2-41cf-bee8-cf147de054c7",
   "metadata": {},
   "outputs": [],
   "source": [
    "#handling null values\n",
    "\n",
    "df[\"Churn Reason\"].fillna(df[\"Churn Reason\"].mode()[0], inplace = True)\n"
   ]
  },
  {
   "cell_type": "code",
   "execution_count": 53,
   "id": "c00065a8-9ea3-4a0e-9757-3f083f95b16d",
   "metadata": {},
   "outputs": [],
   "source": [
    "df[\"Churn Date\"].fillna(pd.Timestamp('2024-01-01'), inplace = True)"
   ]
  },
  {
   "cell_type": "code",
   "execution_count": 54,
   "id": "1beb5cb6-ddb6-4d29-b2af-5d8d2ba26a18",
   "metadata": {},
   "outputs": [
    {
     "data": {
      "text/plain": [
       "RowNumber                          0\n",
       "CustomerId                         0\n",
       "Surname                            0\n",
       "First Name                         0\n",
       "Date of Birth                      0\n",
       "Gender                             0\n",
       "Marital Status                     0\n",
       "Number of Dependents               0\n",
       "Occupation                         0\n",
       "Income                             0\n",
       "Education Level                    0\n",
       "Address                            0\n",
       "Contact Information                0\n",
       "Customer Tenure                    0\n",
       "Customer Segment                   0\n",
       "Preferred Communication Channel    0\n",
       "Credit Score                       0\n",
       "Credit History Length              0\n",
       "Outstanding Loans                  0\n",
       "Churn Flag                         0\n",
       "Churn Reason                       0\n",
       "Churn Date                         0\n",
       "Balance                            0\n",
       "NumOfProducts                      0\n",
       "NumComplaints                      0\n",
       "dtype: int64"
      ]
     },
     "execution_count": 54,
     "metadata": {},
     "output_type": "execute_result"
    }
   ],
   "source": [
    "df.isnull().sum()"
   ]
  },
  {
   "cell_type": "markdown",
   "id": "f01b0fca-81bb-48ea-8b29-15395e6cbe3a",
   "metadata": {},
   "source": [
    "<h1 style=\"\n",
    "background-color: #2C6E49;\n",
    "color: #FFFFFF;\n",
    "padding: 10px;\n",
    "border-radius: 5px;\n",
    "text-align: left;\n",
    "font-family: 'Times New Roman', sans-serif;\n",
    "font-size: 2em;\n",
    "text-shadow: 2px 2px 4px rgba(0, 0, 0, 0.4);\n",
    "box-shadow: 0 4px 8px rgba(0, 0, 0, 0.2);\n",
    "text-shadow: 1px 1px 1px #fff, 1px 1px 1px #fff, 1px 1px 1px #fff, 1px 1px 1px #fff;\n",
    "\">Detecting Outliers using z-score\n",
    "</h1>"
   ]
  },
  {
   "cell_type": "code",
   "execution_count": 55,
   "id": "4ab65123-4474-49d4-8614-e03ded4ab36e",
   "metadata": {},
   "outputs": [
    {
     "data": {
      "text/plain": [
       "159.06681111324244"
      ]
     },
     "execution_count": 55,
     "metadata": {},
     "output_type": "execute_result"
    }
   ],
   "source": [
    "#  checking for outliers in credit score\n",
    "\n",
    "np.std(df['Credit Score'])"
   ]
  },
  {
   "cell_type": "code",
   "execution_count": 56,
   "id": "1cc55218-8d69-40e7-af8c-776d0ea27bf1",
   "metadata": {},
   "outputs": [],
   "source": [
    "# threshold = 159, threshold is a point or level at which something begins or changes.\n",
    "\n",
    "def detect_outlier(data):\n",
    "    outlier = []\n",
    "    mean = np.mean(data)\n",
    "    std_dev = np.std(data)\n",
    "\n",
    "    for i in data:\n",
    "        z_score = (i-mean) / std_dev\n",
    "        if np.abs(z_score) > 159:\n",
    "            outlier.append(i)\n",
    "    return outlier"
   ]
  },
  {
   "cell_type": "code",
   "execution_count": 57,
   "id": "5678e8ee-1be9-47a9-804f-fae392183da4",
   "metadata": {},
   "outputs": [
    {
     "data": {
      "text/plain": [
       "[]"
      ]
     },
     "execution_count": 57,
     "metadata": {},
     "output_type": "execute_result"
    }
   ],
   "source": [
    "# calling the function\n",
    "\n",
    "detect_outlier(df['Credit Score'])"
   ]
  },
  {
   "cell_type": "code",
   "execution_count": 58,
   "id": "b1377420-98bd-423b-9fc7-549e51169553",
   "metadata": {},
   "outputs": [
    {
     "data": {
      "text/plain": [
       "8.654592948892496"
      ]
     },
     "execution_count": 58,
     "metadata": {},
     "output_type": "execute_result"
    }
   ],
   "source": [
    "# Checking for outliers in Credit History Length\n",
    "\n",
    "np.std(df['Credit History Length'])"
   ]
  },
  {
   "cell_type": "code",
   "execution_count": 59,
   "id": "207f1bb5-7fb8-4d6d-b142-4fcb8b8a74e4",
   "metadata": {},
   "outputs": [],
   "source": [
    "# threshold = 8\n",
    "\n",
    "def detect_outlier(data):\n",
    "    outlier = []\n",
    "    mean = np.mean(data)\n",
    "    std_dev = np.std(data)\n",
    "\n",
    "    for i in data:\n",
    "        z_score = (i-mean) / std_dev\n",
    "        if np.abs(z_score) > 8:\n",
    "            outlier.append(i)\n",
    "    return outlier"
   ]
  },
  {
   "cell_type": "code",
   "execution_count": 60,
   "id": "41f81216-1f19-47b9-a9e7-0dc7ce9b76a5",
   "metadata": {},
   "outputs": [
    {
     "data": {
      "text/plain": [
       "[]"
      ]
     },
     "execution_count": 60,
     "metadata": {},
     "output_type": "execute_result"
    }
   ],
   "source": [
    "# calling the function\n",
    "\n",
    "detect_outlier(df['Credit History Length'])"
   ]
  },
  {
   "cell_type": "code",
   "execution_count": 61,
   "id": "1e8728c7-3999-427b-a56d-78e2cfd3e37a",
   "metadata": {},
   "outputs": [
    {
     "data": {
      "text/plain": [
       "8.654179726247987"
      ]
     },
     "execution_count": 61,
     "metadata": {},
     "output_type": "execute_result"
    }
   ],
   "source": [
    "# Checking outliers in Customer tenure\n",
    "\n",
    "np.std(df['Customer Tenure'])"
   ]
  },
  {
   "cell_type": "code",
   "execution_count": 62,
   "id": "e198696d-52e2-41e7-92d8-2664ff92439e",
   "metadata": {},
   "outputs": [
    {
     "data": {
      "text/plain": [
       "[]"
      ]
     },
     "execution_count": 62,
     "metadata": {},
     "output_type": "execute_result"
    }
   ],
   "source": [
    "# Calling the function\n",
    "\n",
    "detect_outlier(df['Customer Tenure'])"
   ]
  },
  {
   "cell_type": "code",
   "execution_count": 89,
   "id": "731aaf95-7dc9-442a-8803-9ea8ace23fa6",
   "metadata": {},
   "outputs": [
    {
     "data": {
      "text/plain": [
       "27429.63778964742"
      ]
     },
     "execution_count": 89,
     "metadata": {},
     "output_type": "execute_result"
    }
   ],
   "source": [
    "np.std(df['Income'])"
   ]
  },
  {
   "cell_type": "code",
   "execution_count": 90,
   "id": "5e215921-b10d-40cd-91f5-42ec4b7a7e63",
   "metadata": {},
   "outputs": [
    {
     "data": {
      "text/plain": [
       "[]"
      ]
     },
     "execution_count": 90,
     "metadata": {},
     "output_type": "execute_result"
    }
   ],
   "source": [
    "# Calling the function for income column\n",
    "\n",
    "detect_outlier(df['Income'])"
   ]
  },
  {
   "cell_type": "code",
   "execution_count": 91,
   "id": "34cc59a6-25f7-4437-a9ab-6534a40d8d53",
   "metadata": {},
   "outputs": [
    {
     "data": {
      "text/plain": [
       "[]"
      ]
     },
     "execution_count": 91,
     "metadata": {},
     "output_type": "execute_result"
    }
   ],
   "source": [
    "detect_outlier(df['Outstanding Loans'])"
   ]
  },
  {
   "cell_type": "code",
   "execution_count": 92,
   "id": "5f8335d9-fbe2-43d4-8ddf-202011045ba0",
   "metadata": {},
   "outputs": [
    {
     "data": {
      "text/plain": [
       "[]"
      ]
     },
     "execution_count": 92,
     "metadata": {},
     "output_type": "execute_result"
    }
   ],
   "source": [
    "detect_outlier(df['Balance'])"
   ]
  },
  {
   "cell_type": "markdown",
   "id": "b7d2c225-2a50-4c42-aecf-c36680920449",
   "metadata": {},
   "source": [
    "<h1 style=\"\n",
    "background-color: #2C6E49;\n",
    "color: #FFFFFF;\n",
    "padding: 10px;\n",
    "border-radius: 5px;\n",
    "text-align: left;\n",
    "font-family: 'Times New Roman', sans-serif;\n",
    "font-size: 2em;\n",
    "text-shadow: 2px 2px 4px rgba(0, 0, 0, 0.4);\n",
    "box-shadow: 0 4px 8px rgba(0, 0, 0, 0.2);\n",
    "text-shadow: 1px 1px 1px #fff, 1px 1px 1px #fff, 1px 1px 1px #fff, 1px 1px 1px #fff;\n",
    "\">Detecting Outliers using  the interquantile range and box plot\n",
    "</h1>"
   ]
  },
  {
   "cell_type": "code",
   "execution_count": 63,
   "id": "a08bcef1-726a-4bb1-bc52-564ab54af9b1",
   "metadata": {},
   "outputs": [
    {
     "name": "stdout",
     "output_type": "stream",
     "text": [
      "436.0 712.0\n"
     ]
    }
   ],
   "source": [
    "# for Credit score\n",
    "\n",
    "Q1 = np.percentile(df['Credit Score'], 25)\n",
    "Q3 = np.percentile(df['Credit Score'], 75)\n",
    "print(Q1, Q3)"
   ]
  },
  {
   "cell_type": "code",
   "execution_count": 64,
   "id": "6b5b0030-8db9-440b-944b-d9d1b5c57359",
   "metadata": {},
   "outputs": [
    {
     "data": {
      "text/plain": [
       "276.0"
      ]
     },
     "execution_count": 64,
     "metadata": {},
     "output_type": "execute_result"
    }
   ],
   "source": [
    "IQR = Q3-Q1\n",
    "IQR"
   ]
  },
  {
   "cell_type": "code",
   "execution_count": 65,
   "id": "148cd7c0-0ca7-41c8-a7c4-003f9856eea7",
   "metadata": {},
   "outputs": [
    {
     "name": "stdout",
     "output_type": "stream",
     "text": [
      "22.0 1126.0\n"
     ]
    }
   ],
   "source": [
    "Lower_bound = Q1 - 1.5 *IQR\n",
    "Upper_bound = Q3 + 1.5 *IQR\n",
    "print(Lower_bound,Upper_bound)"
   ]
  },
  {
   "cell_type": "code",
   "execution_count": 66,
   "id": "b89cfcbd-f40e-4264-b058-fce522f4268d",
   "metadata": {},
   "outputs": [
    {
     "name": "stdout",
     "output_type": "stream",
     "text": [
      "[]\n"
     ]
    }
   ],
   "source": [
    "outliers = []\n",
    "for i in df['Credit Score']:\n",
    "    if i <Lower_bound or i > Upper_bound :\n",
    "        outliers.append(i)\n",
    "print(outliers)"
   ]
  },
  {
   "cell_type": "code",
   "execution_count": 69,
   "id": "17d75d56-5452-40a0-a49c-db7e0addca9b",
   "metadata": {},
   "outputs": [],
   "source": [
    "# creating a function\n",
    "def detect_outliers_iqr(data):\n",
    "    Q1 = np.percentile(data, 25)\n",
    "    Q3 = np.percentile(data, 75)\n",
    "    IQR = Q3-Q1\n",
    "    Lower_bound = Q1 - 1.5 *IQR\n",
    "    Upper_bound = Q3 + 1.5 *IQR\n",
    "    outliers = []\n",
    "    for i in data:\n",
    "        if i <Lower_bound or i > Upper_bound :\n",
    "            outliers.append(i)\n",
    "    sns.boxplot(x=data)\n",
    "    plt.xlabel('Credit Score')\n",
    "    plt.show()\n",
    "            \n",
    "   \n",
    "    return outliers\n",
    "    \n",
    "    "
   ]
  },
  {
   "cell_type": "code",
   "execution_count": 70,
   "id": "2ddca517-29bd-4b36-b2e2-33215e1836d0",
   "metadata": {
    "scrolled": true
   },
   "outputs": [
    {
     "data": {
      "image/png": "[encoded data removed]",
      "text/plain": [
       "<Figure size 640x480 with 1 Axes>"
      ]
     },
     "metadata": {},
     "output_type": "display_data"
    },
    {
     "data": {
      "text/plain": [
       "[]"
      ]
     },
     "execution_count": 70,
     "metadata": {},
     "output_type": "execute_result"
    }
   ],
   "source": [
    "# calling the function\n",
    "\n",
    "detect_outliers_iqr(df['Credit Score'])"
   ]
  },
  {
   "cell_type": "code",
   "execution_count": 79,
   "id": "0fcad505-637e-49d0-b2cf-0b8092b3af48",
   "metadata": {},
   "outputs": [],
   "source": [
    "# for Credit History length\n",
    "\n",
    "def detect_outliers_iqr(data):\n",
    "    Q1 = np.percentile(data, 25)\n",
    "    Q3 = np.percentile(data, 75)\n",
    "    IQR = Q3-Q1\n",
    "    Lower_bound = Q1 - 1.5 *IQR\n",
    "    Upper_bound = Q3 + 1.5 *IQR\n",
    "    outliers = []\n",
    "    for i in data:\n",
    "        if i <Lower_bound or i > Upper_bound :\n",
    "            outliers.append(i)\n",
    "    sns.boxplot(x=data)\n",
    "    plt.xlabel('Credit History Length')\n",
    "    plt.show()\n",
    "            \n",
    "   \n",
    "    return outliers"
   ]
  },
  {
   "cell_type": "code",
   "execution_count": 80,
   "id": "71914750-419e-40e1-ab95-cc70b3e262fb",
   "metadata": {},
   "outputs": [
    {
     "data": {
      "image/png": "[encoded data removed]",
      "text/plain": [
       "<Figure size 640x480 with 1 Axes>"
      ]
     },
     "metadata": {},
     "output_type": "display_data"
    },
    {
     "data": {
      "text/plain": [
       "[]"
      ]
     },
     "execution_count": 80,
     "metadata": {},
     "output_type": "execute_result"
    }
   ],
   "source": [
    "# calling the function\n",
    "\n",
    "detect_outliers_iqr(df['Credit History Length'])"
   ]
  },
  {
   "cell_type": "code",
   "execution_count": 81,
   "id": "9cd8431a-19a7-4e02-982d-350225a4bc15",
   "metadata": {},
   "outputs": [],
   "source": [
    "# for Customer Tenure column\n",
    "\n",
    "def detect_outliers_iqr(data):\n",
    "    Q1 = np.percentile(data, 25)\n",
    "    Q3 = np.percentile(data, 75)\n",
    "    IQR = Q3-Q1\n",
    "    Lower_bound = Q1 - 1.5 *IQR\n",
    "    Upper_bound = Q3 + 1.5 *IQR\n",
    "    outliers = []\n",
    "    for i in data:\n",
    "        if i <Lower_bound or i > Upper_bound :\n",
    "            outliers.append(i)\n",
    "    sns.boxplot(x=data)\n",
    "    plt.xlabel('Customer Tenure')\n",
    "    plt.show()\n",
    "            \n",
    "   \n",
    "    return outliers"
   ]
  },
  {
   "cell_type": "code",
   "execution_count": 82,
   "id": "d28a233a-01a7-4abb-bec9-8096ba4bf873",
   "metadata": {},
   "outputs": [
    {
     "data": {
      "image/png": "[encoded data removed]",
      "text/plain": [
       "<Figure size 640x480 with 1 Axes>"
      ]
     },
     "metadata": {},
     "output_type": "display_data"
    },
    {
     "data": {
      "text/plain": [
       "[]"
      ]
     },
     "execution_count": 82,
     "metadata": {},
     "output_type": "execute_result"
    }
   ],
   "source": [
    "detect_outliers_iqr(df['Customer Tenure'])"
   ]
  },
  {
   "cell_type": "code",
   "execution_count": 83,
   "id": "c38b67b1-3c97-4e00-b9cd-53d96a35f3f2",
   "metadata": {},
   "outputs": [],
   "source": [
    "# Income column\n",
    "\n",
    "def detect_outliers_iqr(data):\n",
    "    Q1 = np.percentile(data, 25)\n",
    "    Q3 = np.percentile(data, 75)\n",
    "    IQR = Q3-Q1\n",
    "    Lower_bound = Q1 - 1.5 *IQR\n",
    "    Upper_bound = Q3 + 1.5 *IQR\n",
    "    outliers = []\n",
    "    for i in data:\n",
    "        if i <Lower_bound or i > Upper_bound :\n",
    "            outliers.append(i)\n",
    "    sns.boxplot(x=data)\n",
    "    plt.xlabel('Income')\n",
    "    plt.show()\n",
    "            \n",
    "   \n",
    "    return outliers"
   ]
  },
  {
   "cell_type": "code",
   "execution_count": 84,
   "id": "ee85df48-8e60-4a41-bb5b-e0ad3316eb21",
   "metadata": {},
   "outputs": [
    {
     "data": {
      "image/png": "[encoded data removed]",
      "text/plain": [
       "<Figure size 640x480 with 1 Axes>"
      ]
     },
     "metadata": {},
     "output_type": "display_data"
    },
    {
     "data": {
      "text/plain": [
       "[]"
      ]
     },
     "execution_count": 84,
     "metadata": {},
     "output_type": "execute_result"
    }
   ],
   "source": [
    "detect_outliers_iqr(df['Income'])"
   ]
  },
  {
   "cell_type": "code",
   "execution_count": 85,
   "id": "945819d9-f61f-4dab-9bcb-0ef19e2e416b",
   "metadata": {},
   "outputs": [],
   "source": [
    "# outstanding loan column\n",
    "\n",
    "def detect_outliers_iqr(data):\n",
    "    Q1 = np.percentile(data, 25)\n",
    "    Q3 = np.percentile(data, 75)\n",
    "    IQR = Q3-Q1\n",
    "    Lower_bound = Q1 - 1.5 *IQR\n",
    "    Upper_bound = Q3 + 1.5 *IQR\n",
    "    outliers = []\n",
    "    for i in data:\n",
    "        if i <Lower_bound or i > Upper_bound :\n",
    "            outliers.append(i)\n",
    "    sns.boxplot(x=data)\n",
    "    plt.xlabel('Outstanding Loans')\n",
    "    plt.show()\n",
    "            \n",
    "   \n",
    "    return outliers"
   ]
  },
  {
   "cell_type": "code",
   "execution_count": 86,
   "id": "727ea351-e58d-4f69-89b8-132774fcb2dc",
   "metadata": {},
   "outputs": [
    {
     "data": {
      "image/png": "[encoded data removed]",
      "text/plain": [
       "<Figure size 640x480 with 1 Axes>"
      ]
     },
     "metadata": {},
     "output_type": "display_data"
    },
    {
     "data": {
      "text/plain": [
       "[]"
      ]
     },
     "execution_count": 86,
     "metadata": {},
     "output_type": "execute_result"
    }
   ],
   "source": [
    "# calling the function\n",
    "detect_outliers_iqr(df['Outstanding Loans'])"
   ]
  },
  {
   "cell_type": "code",
   "execution_count": 87,
   "id": "375a97a9-2ce7-4fd0-9b9b-e9fde065b8a8",
   "metadata": {},
   "outputs": [],
   "source": [
    "# Balance column\n",
    "\n",
    "def detect_outliers_iqr(data):\n",
    "    Q1 = np.percentile(data, 25)\n",
    "    Q3 = np.percentile(data, 75)\n",
    "    IQR = Q3-Q1\n",
    "    Lower_bound = Q1 - 1.5 *IQR\n",
    "    Upper_bound = Q3 + 1.5 *IQR\n",
    "    outliers = []\n",
    "    for i in data:\n",
    "        if i <Lower_bound or i > Upper_bound :\n",
    "            outliers.append(i)\n",
    "    sns.boxplot(x=data)\n",
    "    plt.xlabel('Balance')\n",
    "    plt.show()\n",
    "            \n",
    "   \n",
    "    return outliers"
   ]
  },
  {
   "cell_type": "code",
   "execution_count": 88,
   "id": "16451b40-a50c-4b7b-9088-5fab9d612c19",
   "metadata": {},
   "outputs": [
    {
     "data": {
      "image/png": "[encoded data removed]",
      "text/plain": [
       "<Figure size 640x480 with 1 Axes>"
      ]
     },
     "metadata": {},
     "output_type": "display_data"
    },
    {
     "data": {
      "text/plain": [
       "[]"
      ]
     },
     "execution_count": 88,
     "metadata": {},
     "output_type": "execute_result"
    }
   ],
   "source": [
    "# calling the function\n",
    "\n",
    "detect_outliers_iqr(df['Balance'])"
   ]
  },
  {
   "cell_type": "markdown",
   "id": "cde7c7f8-5dbb-42c4-ab40-e35faa674441",
   "metadata": {},
   "source": [
    "<h1 style=\"\n",
    "background-color: #2C6E49\n",
    ";\n",
    "color: #FFFFFF;\n",
    "padding: 20px;\n",
    "border-radius: 10px;\n",
    "text-align: left;\n",
    "font-family: 'Times New Roman', sans-serif;\n",
    "font-size: 2em;\n",
    "text-shadow: 2px 2px 4px rgba(0, 0, 0, 0.4);\n",
    "box-shadow: 0 4px 8px rgba(0, 0, 0, 0.2);\n",
    "text-shadow: 1px 1px 1px #fff, 1px 1px 1px #fff, 1px 1px 1px #fff, 1px 1px 1px #fff;\n",
    "\">Summary : Using both the z-score, interquantile range and boxplot method. The results shows that there are no outliers in the Credit score, Credit History length, customer tenure, income,outstanding loans and balance columns.\n",
    "    \n",
    "</h1>"
   ]
  },
  {
   "cell_type": "code",
   "execution_count": null,
   "id": "8c58edb8-8921-4583-af6c-17524f8f3fd2",
   "metadata": {},
   "outputs": [],
   "source": []
  }
 ],
 "metadata": {
  "kernelspec": {
   "display_name": "Python 3 (ipykernel)",
   "language": "python",
   "name": "python3"
  },
  "language_info": {
   "codemirror_mode": {
    "name": "ipython",
    "version": 3
   },
   "file_extension": ".py",
   "mimetype": "text/x-python",
   "name": "python",
   "nbconvert_exporter": "python",
   "pygments_lexer": "ipython3",
   "version": "3.11.7"
  }
 },
 "nbformat": 4,
 "nbformat_minor": 5
}
